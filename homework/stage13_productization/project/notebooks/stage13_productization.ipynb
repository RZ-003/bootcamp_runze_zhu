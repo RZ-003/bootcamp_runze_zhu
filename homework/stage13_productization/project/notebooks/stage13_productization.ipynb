{
 "cells": [
  {
   "cell_type": "markdown",
   "metadata": {},
   "source": [
    "# Stage 13 Homework Starter — Productization\n",
    "\n",
    "## Objective\n",
    "Deploy your trained model as a **reusable, handoff-ready API or dashboard** and finalize your project for reproducibility and clarity."
   ]
  },
  {
   "cell_type": "markdown",
   "metadata": {},
   "source": [
    "## Steps\n",
    "1. Create a mock, very basic analysis in a notebook.\n",
    "2. Clean your notebook by removing exploratory cells and documenting your code.\n",
    "3. Move reusable functions into `/src/`.\n",
    "4. Load your trained model from Stage 12 or earlier stages.\n",
    "5. Pickle/save the model and test reload.\n",
    "6. Implement **either**:\n",
    "   - Flask API with `/predict` endpoint and optional parameters\n",
    "   - Streamlit or Dash dashboard for user interaction\n",
    "7. Include:\n",
    "   - Error handling for invalid inputs\n",
    "   - `requirements.txt` for reproducibility\n",
    "   - Documentation in `README.md`\n",
    "8. Test your deployment locally and provide evidence.\n",
    "9. Organize project folders and finalize notebooks for handoff."
   ]
  },
  {
   "cell_type": "markdown",
   "id": "8e003adc",
   "metadata": {},
   "source": [
    "## Create mock, very basic analysis"
   ]
  },
  {
   "cell_type": "code",
   "execution_count": 1,
   "id": "88fadda7",
   "metadata": {},
   "outputs": [],
   "source": [
    "# 1) Imports & setup\n",
    "import numpy as np\n",
    "import pandas as pd\n",
    "import matplotlib.pyplot as plt\n",
    "from sklearn.linear_model import LinearRegression"
   ]
  },
  {
   "cell_type": "code",
   "execution_count": 2,
   "id": "4582bf63",
   "metadata": {},
   "outputs": [
    {
     "data": {
      "text/html": [
       "<div>\n",
       "<style scoped>\n",
       "    .dataframe tbody tr th:only-of-type {\n",
       "        vertical-align: middle;\n",
       "    }\n",
       "\n",
       "    .dataframe tbody tr th {\n",
       "        vertical-align: top;\n",
       "    }\n",
       "\n",
       "    .dataframe thead th {\n",
       "        text-align: right;\n",
       "    }\n",
       "</style>\n",
       "<table border=\"1\" class=\"dataframe\">\n",
       "  <thead>\n",
       "    <tr style=\"text-align: right;\">\n",
       "      <th></th>\n",
       "      <th>x</th>\n",
       "      <th>y</th>\n",
       "    </tr>\n",
       "  </thead>\n",
       "  <tbody>\n",
       "    <tr>\n",
       "      <th>0</th>\n",
       "      <td>1</td>\n",
       "      <td>2</td>\n",
       "    </tr>\n",
       "    <tr>\n",
       "      <th>1</th>\n",
       "      <td>2</td>\n",
       "      <td>5</td>\n",
       "    </tr>\n",
       "    <tr>\n",
       "      <th>2</th>\n",
       "      <td>3</td>\n",
       "      <td>6</td>\n",
       "    </tr>\n",
       "    <tr>\n",
       "      <th>3</th>\n",
       "      <td>4</td>\n",
       "      <td>9</td>\n",
       "    </tr>\n",
       "  </tbody>\n",
       "</table>\n",
       "</div>"
      ],
      "text/plain": [
       "   x  y\n",
       "0  1  2\n",
       "1  2  5\n",
       "2  3  6\n",
       "3  4  9"
      ]
     },
     "metadata": {},
     "output_type": "display_data"
    }
   ],
   "source": [
    "# 2) Load / create mock data\n",
    "df = pd.DataFrame({'x': [1, 2, 3, 4], 'y': [2, 5, 6, 9]})\n",
    "display(df)"
   ]
  },
  {
   "cell_type": "code",
   "execution_count": 3,
   "id": "bc50375a",
   "metadata": {},
   "outputs": [
    {
     "name": "stdout",
     "output_type": "stream",
     "text": [
      "Fitted model: y = 2.200 * x + 0.000\n"
     ]
    }
   ],
   "source": [
    "# 3) Fit a simple linear model\n",
    "X = df[['x']].values\n",
    "y = df['y'].values\n",
    "model = LinearRegression().fit(X, y)\n",
    "coef = float(model.coef_[0])\n",
    "intercept= float(model.intercept_)\n",
    "print(f\"Fitted model: y = {coef:.3f} * x + {intercept:.3f}\")"
   ]
  },
  {
   "cell_type": "code",
   "execution_count": 4,
   "id": "ba12e30d",
   "metadata": {},
   "outputs": [
    {
     "data": {
      "text/html": [
       "<div>\n",
       "<style scoped>\n",
       "    .dataframe tbody tr th:only-of-type {\n",
       "        vertical-align: middle;\n",
       "    }\n",
       "\n",
       "    .dataframe tbody tr th {\n",
       "        vertical-align: top;\n",
       "    }\n",
       "\n",
       "    .dataframe thead th {\n",
       "        text-align: right;\n",
       "    }\n",
       "</style>\n",
       "<table border=\"1\" class=\"dataframe\">\n",
       "  <thead>\n",
       "    <tr style=\"text-align: right;\">\n",
       "      <th></th>\n",
       "      <th>x_new</th>\n",
       "      <th>y_pred</th>\n",
       "    </tr>\n",
       "  </thead>\n",
       "  <tbody>\n",
       "    <tr>\n",
       "      <th>0</th>\n",
       "      <td>5</td>\n",
       "      <td>11.0</td>\n",
       "    </tr>\n",
       "    <tr>\n",
       "      <th>1</th>\n",
       "      <td>6</td>\n",
       "      <td>13.2</td>\n",
       "    </tr>\n",
       "    <tr>\n",
       "      <th>2</th>\n",
       "      <td>7</td>\n",
       "      <td>15.4</td>\n",
       "    </tr>\n",
       "  </tbody>\n",
       "</table>\n",
       "</div>"
      ],
      "text/plain": [
       "   x_new  y_pred\n",
       "0      5    11.0\n",
       "1      6    13.2\n",
       "2      7    15.4"
      ]
     },
     "metadata": {},
     "output_type": "display_data"
    }
   ],
   "source": [
    "# 4) Predict on new x values\n",
    "x_new = np.array([5, 6, 7]).reshape(-1, 1)\n",
    "y_pred = model.predict(x_new)\n",
    "\n",
    "pred_df = pd.DataFrame({'x_new': x_new.ravel(), 'y_pred': y_pred})\n",
    "display(pred_df)"
   ]
  },
  {
   "cell_type": "code",
   "execution_count": 5,
   "id": "6b75b069",
   "metadata": {},
   "outputs": [
    {
     "data": {
      "image/png": "[encoded data removed]",
      "text/plain": [
       "<Figure size 640x480 with 1 Axes>"
      ]
     },
     "metadata": {},
     "output_type": "display_data"
    }
   ],
   "source": [
    "# 5) Visualization \n",
    "\n",
    "# Line fit from 0 to 10\n",
    "x_line = np.linspace(0, 10, 100).reshape(-1, 1)\n",
    "y_line = model.predict(x_line)\n",
    "plt.figure()\n",
    "# training data\n",
    "plt.scatter(df['x'], df['y'], label='Observed', color='blue')\n",
    "# fitted line\n",
    "plt.plot(x_line, y_line, label='Fitted line', color='red')\n",
    "# new predictions\n",
    "plt.scatter(x_new, y_pred, label='Predictions (x_new)', color='green', marker='x', s=100)\n",
    "plt.title('Linear Fit with Predictions')\n",
    "plt.xlabel('x')\n",
    "plt.ylabel('y')\n",
    "plt.legend()\n",
    "plt.show()"
   ]
  },
  {
   "cell_type": "code",
   "execution_count": 6,
   "metadata": {},
   "outputs": [
    {
     "name": "stdout",
     "output_type": "stream",
     "text": [
      "Notebook cleaned and ready for handoff.\n"
     ]
    }
   ],
   "source": [
    "print(\"Notebook cleaned and ready for handoff.\")"
   ]
  },
  {
   "cell_type": "markdown",
   "metadata": {},
   "source": [
    "## Move reusable functions to /src/"
   ]
  },
  {
   "cell_type": "code",
   "execution_count": 7,
   "metadata": {},
   "outputs": [],
   "source": [
    "def mean_impute(a: np.ndarray) -> np.ndarray:\n",
    "    m = np.nanmean(a)\n",
    "    out = a.copy()\n",
    "    out[np.isnan(out)] = m\n",
    "    return out\n",
    "\n",
    "def median_impute(a: np.ndarray) -> np.ndarray:\n",
    "    m = np.nanmedian(a)\n",
    "    out = a.copy()\n",
    "    out[np.isnan(out)] = m\n",
    "    return out\n",
    "\n",
    "class SimpleLinReg:\n",
    "    def fit(self, X, y):\n",
    "        X1 = np.c_[np.ones(len(X)), X.ravel()]\n",
    "        beta = np.linalg.pinv(X1) @ y\n",
    "        self.intercept_, self.coef_ = float(beta[0]), np.array([float(beta[1])])\n",
    "        return self\n",
    "    def predict(self, X):\n",
    "        return self.intercept_ + self.coef_[0] * X.ravel()\n",
    "\n",
    "def mae(y_true, y_pred):\n",
    "    return float(np.mean(np.abs(y_true - y_pred)))\n",
    "\n",
    "def bootstrap_metric(y_true, y_pred, fn, n_boot=500, seed=111, alpha=0.05):\n",
    "    rng = np.random.default_rng(seed)\n",
    "    idx = np.arange(len(y_true))\n",
    "    stats = []\n",
    "    for _ in range(n_boot):\n",
    "        b = rng.choice(idx, size=len(idx), replace=True)\n",
    "        stats.append(fn(y_true[b], y_pred[b]))\n",
    "    lo, hi = np.percentile(stats, [100*alpha/2, 100*(1-alpha/2)])\n",
    "    return {'mean': float(np.mean(stats)), 'lo': float(lo), 'hi': float(hi)}\n",
    "\n",
    "def fit_fn(X, y):\n",
    "    return SimpleLinReg().fit(X, y)\n",
    "def pred_fn(model, X):\n",
    "    return model.predict(X)"
   ]
  },
  {
   "cell_type": "markdown",
   "metadata": {},
   "source": [
    "## Pickle / Save Final Model\n"
   ]
  },
  {
   "cell_type": "code",
   "execution_count": 9,
   "metadata": {},
   "outputs": [
    {
     "name": "stdout",
     "output_type": "stream",
     "text": [
      "[0.22 0.44 0.66]\n"
     ]
    }
   ],
   "source": [
    "import pickle\n",
    "# Replace 'model' with your trained model variable\n",
    "with open('model/model.pkl', 'wb') as f:\n",
    "    pickle.dump(model, f)\n",
    "\n",
    "# Test loading the model\n",
    "with open('model/model.pkl', 'rb') as f:\n",
    "    loaded_model = pickle.load(f)\n",
    "\n",
    "# Example prediction (replace with actual features)\n",
    "print(loaded_model.predict(np.array([0.1, 0.2, 0.3]).reshape(-1, 1)))"
   ]
  },
  {
   "cell_type": "markdown",
   "metadata": {},
   "source": [
    "## Flask API Starter\n"
   ]
  },
  {
   "cell_type": "code",
   "execution_count": null,
   "metadata": {},
   "outputs": [
    {
     "name": "stdout",
     "output_type": "stream",
     "text": [
      " * Serving Flask app '__main__'\n",
      " * Debug mode: off\n"
     ]
    },
    {
     "name": "stderr",
     "output_type": "stream",
     "text": [
      "\u001b[31m\u001b[1mWARNING: This is a development server. Do not use it in a production deployment. Use a production WSGI server instead.\u001b[0m\n",
      " * Running on http://127.0.0.1:5000\n",
      "\u001b[33mPress CTRL+C to quit\u001b[0m\n",
      "127.0.0.1 - - [28/Aug/2025 09:10:26] \"POST /predict HTTP/1.1\" 200 -\n",
      "127.0.0.1 - - [28/Aug/2025 09:10:26] \"GET /predict/2.0 HTTP/1.1\" 200 -\n",
      "127.0.0.1 - - [28/Aug/2025 09:10:26] \"GET /plot HTTP/1.1\" 200 -\n"
     ]
    }
   ],
   "source": [
    "from flask import Flask, request, jsonify\n",
    "import threading\n",
    "import matplotlib.pyplot as plt\n",
    "import io\n",
    "import base64\n",
    "\n",
    "app = Flask(__name__)\n",
    "\n",
    "@app.route('/predict', methods=['POST'])\n",
    "def predict():\n",
    "    # TODO: Replace placeholder logic with actual model prediction\n",
    "    data = request.get_json()\n",
    "    features = data.get('features', None)\n",
    "    if features is None:\n",
    "        return jsonify({'error': 'No features provided'}), 400\n",
    "    X = np.array(features).reshape(-1, model.n_features_in_)  # ensure 2D\n",
    "    y_pred = model.predict(X)\n",
    "    pred = y_pred.tolist()\n",
    "    return jsonify({'prediction': pred})\n",
    "\n",
    "@app.route('/predict/<float:input1>', methods=['GET'])\n",
    "def predict_one(input1):\n",
    "    X = np.array([[input1]])\n",
    "    pred = model.predict(X)[0]\n",
    "    return jsonify({'prediction': pred})\n",
    "\n",
    "\n",
    "@app.route('/plot')\n",
    "def plot():\n",
    "    # TODO: Replace with meaningful chart or image\n",
    "    fig, ax = plt.subplots()\n",
    "    x_line = np.linspace(0, 20, 100).reshape(-1, 1)\n",
    "    y_line = model.predict(x_line)\n",
    "    ax.plot(x_line.ravel(), y_line, color='red', label='Model prediction')\n",
    "    ax.legend()\n",
    "    buf = io.BytesIO()\n",
    "    fig.savefig(buf, format='png')\n",
    "    buf.seek(0)\n",
    "    img_bytes = base64.b64encode(buf.read()).decode('utf-8')\n",
    "    return f'<img src=\"data:image/png;base64,{img_bytes}\"/>'\n",
    "\n",
    "def run_flask():\n",
    "    app.run(port=5000)\n",
    "\n",
    "# Launch Flask in a separate thread\n",
    "threading.Thread(target=run_flask).start()"
   ]
  },
  {
   "cell_type": "markdown",
   "id": "8da5aeab",
   "metadata": {},
   "source": [
    "## Testing the Flask API from Notebook\n"
   ]
  },
  {
   "cell_type": "code",
   "execution_count": 12,
   "metadata": {},
   "outputs": [
    {
     "name": "stdout",
     "output_type": "stream",
     "text": [
      "{'prediction': [0.22000000000000172, 0.44000000000000167, 0.6600000000000016]}\n",
      "{'prediction': 4.4}\n"
     ]
    },
    {
     "data": {
      "text/html": [
       "<img src=\"data:image/png;base64,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\"/>"
      ],
      "text/plain": [
       "<IPython.core.display.HTML object>"
      ]
     },
     "metadata": {},
     "output_type": "display_data"
    },
    {
     "data": {
      "image/png": "[encoded data removed]",
      "text/plain": [
       "<Figure size 640x480 with 1 Axes>"
      ]
     },
     "metadata": {},
     "output_type": "display_data"
    }
   ],
   "source": [
    "import requests\n",
    "from IPython.display import display, HTML\n",
    "\n",
    "# POST /predict\n",
    "response = requests.post(\n",
    "    'http://127.0.0.1:5000/predict',\n",
    "    json={'features':[0.1, 0.2, 0.3]}\n",
    ")\n",
    "print(response.json())\n",
    "\n",
    "# GET /predict/<input1>\n",
    "response2 = requests.get('http://127.0.0.1:5000/predict/2.0')\n",
    "print(response2.json())\n",
    "\n",
    "# GET /predict/<input1>/<input2>\n",
    "# response3 = requests.get('http://127.0.0.1:5000/predict/1.0/3.0')\n",
    "# print(response3.json())\n",
    "\n",
    "# GET /plot\n",
    "response_plot = requests.get('http://127.0.0.1:5000/plot')\n",
    "display(HTML(response_plot.text))"
   ]
  }
 ],
 "metadata": {
  "kernelspec": {
   "display_name": "fe-course",
   "language": "python",
   "name": "python3"
  },
  "language_info": {
   "codemirror_mode": {
    "name": "ipython",
    "version": 3
   },
   "file_extension": ".py",
   "mimetype": "text/x-python",
   "name": "python",
   "nbconvert_exporter": "python",
   "pygments_lexer": "ipython3",
   "version": "3.11.13"
  }
 },
 "nbformat": 4,
 "nbformat_minor": 5
}
