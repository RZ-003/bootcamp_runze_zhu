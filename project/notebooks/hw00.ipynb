{
 "cells": [
  {
   "cell_type": "markdown",
   "id": "43b6d946-926d-4d59-be80-9e1707b703dd",
   "metadata": {},
   "source": [
    "# Environment & Config Check"
   ]
  },
  {
   "cell_type": "code",
   "execution_count": 1,
   "id": "8b078bae-a4fa-44cc-9bbf-61abfb057fff",
   "metadata": {},
   "outputs": [],
   "source": [
    "import os\n",
    "from dotenv import load_dotenv"
   ]
  },
  {
   "cell_type": "code",
   "execution_count": 3,
   "id": "4d9c5e8e-f7c4-4473-b4ab-19ae84ef3414",
   "metadata": {},
   "outputs": [
    {
     "name": "stdout",
     "output_type": "stream",
     "text": [
      "API_KEY is: dummy_key_123\n"
     ]
    }
   ],
   "source": [
    "load_dotenv()\n",
    "print(\"API_KEY is:\", os.getenv(\"API_KEY\"))"
   ]
  },
  {
   "cell_type": "code",
   "execution_count": 6,
   "id": "94c0be53-79ee-4d56-bf9c-dac795674bbf",
   "metadata": {},
   "outputs": [
    {
     "name": "stdout",
     "output_type": "stream",
     "text": [
      "a is [1 2 3]\n",
      "The elementwise square of a is [1 4 9]\n"
     ]
    }
   ],
   "source": [
    "# A small array operation\n",
    "import numpy as np\n",
    "\n",
    "a = np.array([1, 2, 3])\n",
    "print(\"a is\", a)\n",
    "print(\"The elementwise square of a is\", a**2)"
   ]
  }
 ],
 "metadata": {
  "kernelspec": {
   "display_name": "Python 3 (ipykernel)",
   "language": "python",
   "name": "python3"
  },
  "language_info": {
   "codemirror_mode": {
    "name": "ipython",
    "version": 3
   },
   "file_extension": ".py",
   "mimetype": "text/x-python",
   "name": "python",
   "nbconvert_exporter": "python",
   "pygments_lexer": "ipython3",
   "version": "3.11.13"
  }
 },
 "nbformat": 4,
 "nbformat_minor": 5
}
